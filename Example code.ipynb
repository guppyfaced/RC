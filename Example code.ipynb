{
 "cells": [
  {
   "cell_type": "code",
   "execution_count": 1,
   "metadata": {},
   "outputs": [
    {
     "name": "stdout",
     "output_type": "stream",
     "text": [
      "The room\n",
      "How wide is the room? 4\n",
      "How long is the room? 4\n",
      "Where is the car in the room? Enter two numbers, seperated by a space 1 1\n",
      "What is the starting direction? For north (N), select 1. For east (E), select 2. For south (S), select 3. For west (W), select 4 1\n",
      "Enter a direction. Try \"f\" for forward, \"b\" for backward, \"l\" for left and \"r\" for right f\n",
      "f\n",
      "Enter a direction. Try \"f\" for forward, \"b\" for backward, \"l\" for left and \"r\" for right l\n",
      "l\n",
      "Enter a direction. Try \"f\" for forward, \"b\" for backward, \"l\" for left and \"r\" for right f\n",
      "f\n",
      "Enter a direction. Try \"f\" for forward, \"b\" for backward, \"l\" for left and \"r\" for right f\n",
      "f\n",
      "The remote control car hit a wall. Oh dear\n",
      "[[1, 1], [1, 2], [0, 2]]\n"
     ]
    },
    {
     "data": {
      "image/png": "[encoded data removed]",
      "text/plain": [
       "<matplotlib.figure.Figure at 0x1077750b8>"
      ]
     },
     "metadata": {},
     "output_type": "display_data"
    }
   ],
   "source": [
    "%matplotlib inline\n",
    "\n",
    "from coreprogram import *\n",
    "from hiq import *"
   ]
  },
  {
   "cell_type": "code",
   "execution_count": null,
   "metadata": {},
   "outputs": [],
   "source": []
  }
 ],
 "metadata": {
  "kernelspec": {
   "display_name": "Python 3",
   "language": "python",
   "name": "python3"
  },
  "language_info": {
   "codemirror_mode": {
    "name": "ipython",
    "version": 3
   },
   "file_extension": ".py",
   "mimetype": "text/x-python",
   "name": "python",
   "nbconvert_exporter": "python",
   "pygments_lexer": "ipython3",
   "version": "3.6.3"
  }
 },
 "nbformat": 4,
 "nbformat_minor": 2
}
